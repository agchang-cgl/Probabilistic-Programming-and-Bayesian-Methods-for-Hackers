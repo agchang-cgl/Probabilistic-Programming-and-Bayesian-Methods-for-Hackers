{
 "cells": [
  {
   "cell_type": "code",
   "execution_count": 3,
   "metadata": {},
   "outputs": [],
   "source": [
    "import pymc3 as pm\n",
    "import theano.tensor as tt\n",
    "import numpy as np\n",
    "import scipy.stats as stats\n",
    "import praw\n",
    "\n",
    "\n",
    "from matplotlib import pyplot as plt\n",
    "from IPython.core.pylabtools import figsize"
   ]
  },
  {
   "cell_type": "code",
   "execution_count": 2,
   "metadata": {},
   "outputs": [],
   "source": [
    "# Ranking Reddit submissions - compare multiple \"naive\" ways"
   ]
  },
  {
   "cell_type": "code",
   "execution_count": 20,
   "metadata": {},
   "outputs": [],
   "source": [
    "reddit = praw.Reddit(client_id=\"3tGpc7FJeHhOag\", client_secret=\"SSBymfcpf00fRV-JLIQTvjTwWd4X8A\", user_agent=\"test\")\n",
    "subreddit  = reddit.subreddit(\"politics\")\n",
    "top_submissions = subreddit.top(limit=100)\n",
    "\n",
    "\n",
    "data = {}\n",
    "\n",
    "for sub in top_submissions:\n",
    "    data[sub.id] = sub"
   ]
  },
  {
   "cell_type": "code",
   "execution_count": 28,
   "metadata": {},
   "outputs": [
    {
     "name": "stdout",
     "output_type": "stream",
     "text": [
      "[[249570  37292]\n",
      " [171871  16998]\n",
      " [165448  12453]\n",
      " [168569  20834]\n",
      " [169826  34784]\n",
      " [156247  21306]\n",
      " [140292  10560]\n",
      " [138021   8810]\n",
      " [152486  24823]\n",
      " [165542  38831]\n",
      " [152715  26950]\n",
      " [159639  35043]\n",
      " [130961   6893]\n",
      " [144753  21630]\n",
      " [128552   8205]\n",
      " [142571  23209]\n",
      " [132288  14699]\n",
      " [136356  20375]\n",
      " [133708  18233]\n",
      " [133242  18169]\n",
      " [125458  10909]\n",
      " [127060  12566]\n",
      " [131324  17908]\n",
      " [123368  10728]\n",
      " [145902  34224]\n",
      " [128719  17553]\n",
      " [128443  17515]\n",
      " [126269  15606]\n",
      " [125997  15573]\n",
      " [131293  21373]\n",
      " [117124   8816]\n",
      " [120152  11883]\n",
      " [125347  17093]\n",
      " [123663  16863]\n",
      " [125040  18684]\n",
      " [133024  27246]\n",
      " [114103   8588]\n",
      " [133686  29346]\n",
      " [119678  16320]\n",
      " [119635  16314]\n",
      " [112520   9784]\n",
      " [113830  11258]\n",
      " [136632  34158]\n",
      " [128265  26271]\n",
      " [118066  16100]\n",
      " [125867  23975]\n",
      " [111516   9697]\n",
      " [125340  23874]\n",
      " [123170  21736]\n",
      " [115492  14274]\n",
      " [115492  14274]\n",
      " [120740  19655]\n",
      " [120676  19645]\n",
      " [110535   9612]\n",
      " [120338  19590]\n",
      " [115990  15817]\n",
      " [125896  25786]\n",
      " [110806  10959]\n",
      " [112090  12454]\n",
      " [135328  35973]\n",
      " [111639  12404]\n",
      " [111198  12355]\n",
      " [105551   6737]\n",
      " [109509  10831]\n",
      " [117783  19174]\n",
      " [117016  19049]\n",
      " [113354  15457]\n",
      " [118717  20950]\n",
      " [114781  17151]\n",
      " [114394  17093]\n",
      " [109235  12137]\n",
      " [132197  35141]\n",
      " [115920  18871]\n",
      " [117644  20761]\n",
      " [108852  12095]\n",
      " [111994  15272]\n",
      " [115115  18740]\n",
      " [115057  18730]\n",
      " [116860  20622]\n",
      " [123287  27063]\n",
      " [118586  22588]\n",
      " [106341  10517]\n",
      " [104825   9115]\n",
      " [104696   9104]\n",
      " [112321  16784]\n",
      " [117950  22467]\n",
      " [107157  11906]\n",
      " [115606  20401]\n",
      " [111880  16718]\n",
      " [113470  18472]\n",
      " [128717  34216]\n",
      " [104578  10343]\n",
      " [107510  13288]\n",
      " [116363  22164]\n",
      " [114236  20159]\n",
      " [100399   6408]\n",
      " [108807  14837]\n",
      " [105680  11742]\n",
      " [104134  10299]\n",
      " [130700  36864]]\n"
     ]
    }
   ],
   "source": [
    "upvotes = []\n",
    "downvotes = []\n",
    "contents = []\n",
    "subs = list(data.values())\n",
    "np_subs = np.array(subs)\n",
    "#print(np_subs)\n",
    "for sub in subs:\n",
    "    try:\n",
    "        ratio = sub.upvote_ratio\n",
    "        # R = (up/(up+down)), S = up-down... solve for up and down\n",
    "        ups = int(round((ratio*sub.score)/(2*ratio - 1)) if ratio != 0.5 else round(sub.score/2))\n",
    "        upvotes.append(ups)\n",
    "        downvotes.append(ups - sub.score)\n",
    "        contents.append(sub.title)\n",
    "    except Exception as e:\n",
    "        print(e)\n",
    "        continue\n",
    "votes = np.array( [ upvotes, downvotes] ).T\n",
    "print(votes)"
   ]
  },
  {
   "cell_type": "code",
   "execution_count": 34,
   "metadata": {},
   "outputs": [],
   "source": [
    "# Naive approach 1: popularity (this completely discounts +/- signal from vote)\n",
    "ranking_by_pop = np_subs[np.argsort(np.sum(votes, axis=1))]"
   ]
  },
  {
   "cell_type": "code",
   "execution_count": 88,
   "metadata": {},
   "outputs": [
    {
     "name": "stdout",
     "output_type": "stream",
     "text": [
      "51\n",
      "51.96075442100509\n"
     ]
    }
   ],
   "source": [
    "def compute_dist_vector(target, value):\n",
    "    dists = []\n",
    "    for i,s in enumerate(target):\n",
    "        dists.append(i - np.where(value == s)[0][0])\n",
    "    return np.array(dists)\n",
    "dists = compute_dist_vector(np_subs, ranking_by_pop)\n",
    "print(np.sum(dists > 0))\n",
    "print(np.sqrt(np.mean(dists**2)))"
   ]
  },
  {
   "cell_type": "code",
   "execution_count": 89,
   "metadata": {},
   "outputs": [
    {
     "name": "stdout",
     "output_type": "stream",
     "text": [
      "[212278 154873 152995 147735 135042 134941 129732 129211 127663 126711\n",
      " 125765 124596 124068 123123 120347 119362 117589 115981 115475 115073\n",
      " 114549 114494 113416 112640 111678 111166 110928 110663 110424 109920\n",
      " 108308 108269 108254 106800 106356 105778 105515 104340 103358 103321\n",
      " 102736 102572 102474 101994 101966 101892 101819 101466 101434 101218\n",
      " 101218 101085 101031 100923 100748 100173 100110  99847  99636  99355\n",
      "  99235  98843  98814  98678  98609  97967  97897  97767  97630  97301\n",
      "  97098  97056  97049  96883  96757  96722  96375  96327  96238  96224\n",
      "  95998  95824  95710  95592  95537  95483  95251  95205  95162  94998\n",
      "  94501  94235  94222  94199  94077  93991  93970  93938  93835  93836]\n",
      "50\n",
      "57.73196688144273\n"
     ]
    }
   ],
   "source": [
    "# Naive approach 2: difference ups-downs\n",
    "diff = votes[:, 0] - votes[:, 1]\n",
    "print(diff)\n",
    "ranking_by_diff = np_subs[np.argsort(diff)]\n",
    "dists = compute_dist_vector(np_subs, ranking_by_diff)\n",
    "print(np.sum(dists > 0))\n",
    "print(np.sqrt(np.mean(dists**2)))"
   ]
  },
  {
   "cell_type": "code",
   "execution_count": null,
   "metadata": {},
   "outputs": [],
   "source": [
    "# Naive approach 3: difference rate (need time of submission)"
   ]
  },
  {
   "cell_type": "code",
   "execution_count": 91,
   "metadata": {},
   "outputs": [
    {
     "name": "stdout",
     "output_type": "stream",
     "text": [
      "[0.87000021 0.91000111 0.93000039 0.89000174 0.82999853 0.88000203\n",
      " 0.92999761 0.93999905 0.86000147 0.80999936 0.84999861 0.81999877\n",
      " 0.94999782 0.86999874 0.94000307 0.86000121 0.89999796 0.87000019\n",
      " 0.87999947 0.88000211 0.92000264 0.91000244 0.87999893 0.91999761\n",
      " 0.80999967 0.87999754 0.87999973 0.89000176 0.88999788 0.86000157\n",
      " 0.92999841 0.91000114 0.8799986  0.88000085 0.87000083 0.82999938\n",
      " 0.93000302 0.81999853 0.87999824 0.87999912 0.92000262 0.90999936\n",
      " 0.8        0.83000078 0.8799994  0.83999813 0.92000033 0.84000161\n",
      " 0.84999931 0.890002   0.890002   0.86000214 0.85999957 0.919998\n",
      " 0.85999943 0.87999879 0.8299996  0.90999877 0.90000321 0.79000123\n",
      " 0.90000242 0.90000243 0.94000249 0.90999668 0.85999985 0.86000073\n",
      " 0.88000248 0.85000036 0.87000121 0.87000236 0.90000165 0.78999988\n",
      " 0.85999807 0.84999819 0.89999752 0.87999937 0.85999776 0.86000135\n",
      " 0.85000218 0.82       0.83999887 0.91000188 0.92000176 0.92\n",
      " 0.86999729 0.83999801 0.90000252 0.85000037 0.86999798 0.85999909\n",
      " 0.78999957 0.90999904 0.88999818 0.84000231 0.85000186 0.94000393\n",
      " 0.88000226 0.9000017  0.90999974 0.78000048]\n",
      "48\n",
      "43.753171313631654\n"
     ]
    }
   ],
   "source": [
    "# Naive approach 4: up-vote ratio\n",
    "ratios = votes[:, 0] / np.sum(votes, axis=1)\n",
    "print(ratios)\n",
    "ranking_by_ratio = np_subs[np.argsort(ratios)]\n",
    "dists = compute_dist_vector(np_subs, ranking_by_ratio)\n",
    "print(np.sum(dists > 0))\n",
    "print(np.sqrt(np.mean(dists**2)))"
   ]
  },
  {
   "cell_type": "code",
   "execution_count": null,
   "metadata": {},
   "outputs": [],
   "source": [
    "# Using Bayesian modeling"
   ]
  },
  {
   "cell_type": "code",
   "execution_count": 68,
   "metadata": {},
   "outputs": [
    {
     "name": "stderr",
     "output_type": "stream",
     "text": [
      "/Users/andrew.chang/miniconda3/lib/python3.8/site-packages/pymc3/sampling.py:465: FutureWarning: In an upcoming release, pm.sample will return an `arviz.InferenceData` object instead of a `MultiTrace` by default. You can pass return_inferencedata=True or return_inferencedata=False to be safe and silence this warning.\n",
      "  warnings.warn(\n",
      "Auto-assigning NUTS sampler...\n",
      "Initializing NUTS using jitter+adapt_diag...\n",
      "Multiprocess sampling (4 chains in 4 jobs)\n",
      "NUTS: [p]\n"
     ]
    },
    {
     "data": {
      "text/html": [
       "\n",
       "    <div>\n",
       "        <style>\n",
       "            /* Turns off some styling */\n",
       "            progress {\n",
       "                /* gets rid of default border in Firefox and Opera. */\n",
       "                border: none;\n",
       "                /* Needs to be in here for Safari polyfill so background images work as expected. */\n",
       "                background-size: auto;\n",
       "            }\n",
       "            .progress-bar-interrupted, .progress-bar-interrupted::-webkit-progress-bar {\n",
       "                background: #F44336;\n",
       "            }\n",
       "        </style>\n",
       "      <progress value='164000' class='' max='164000' style='width:300px; height:20px; vertical-align: middle;'></progress>\n",
       "      100.00% [164000/164000 00:34<00:00 Sampling 4 chains, 0 divergences]\n",
       "    </div>\n",
       "    "
      ],
      "text/plain": [
       "<IPython.core.display.HTML object>"
      ]
     },
     "metadata": {},
     "output_type": "display_data"
    },
    {
     "name": "stderr",
     "output_type": "stream",
     "text": [
      "Sampling 4 chains for 1_000 tune and 40_000 draw iterations (4_000 + 160_000 draws total) took 44 seconds.\n"
     ]
    }
   ],
   "source": [
    "with pm.Model() as m:\n",
    "    p = pm.Uniform(\"p\", 0, 1, shape=100)\n",
    "    b = pm.Binomial(\"b\", p=p, n=np.sum(votes, axis=1), observed=votes[:,0])\n",
    "    \n",
    "    trace = pm.sample(40000)\n",
    "    burned_trace = trace[1000:]"
   ]
  },
  {
   "cell_type": "code",
   "execution_count": 77,
   "metadata": {},
   "outputs": [
    {
     "name": "stdout",
     "output_type": "stream",
     "text": [
      "(156000, 100)\n"
     ]
    }
   ],
   "source": [
    "print(burned_trace[\"p\"].shape)"
   ]
  },
  {
   "cell_type": "code",
   "execution_count": 78,
   "metadata": {},
   "outputs": [
    {
     "data": {
      "text/plain": [
       "<AxesSubplot:title={'center':'x'}>"
      ]
     },
     "execution_count": 78,
     "metadata": {},
     "output_type": "execute_result"
    },
    {
     "data": {
      "image/png": "[encoded data removed]",
      "text/plain": [
       "<Figure size 432x288 with 1 Axes>"
      ]
     },
     "metadata": {
      "needs_background": "light"
     },
     "output_type": "display_data"
    }
   ],
   "source": [
    "pm.plots.plot_posterior(burned_trace[\"p\"][:,0])"
   ]
  },
  {
   "cell_type": "code",
   "execution_count": 80,
   "metadata": {},
   "outputs": [
    {
     "data": {
      "text/plain": [
       "<AxesSubplot:title={'center':'x'}>"
      ]
     },
     "execution_count": 80,
     "metadata": {},
     "output_type": "execute_result"
    },
    {
     "data": {
      "image/png": "[encoded data removed]",
      "text/plain": [
       "<Figure size 432x288 with 1 Axes>"
      ]
     },
     "metadata": {
      "needs_background": "light"
     },
     "output_type": "display_data"
    }
   ],
   "source": [
    "pm.plots.plot_posterior(burned_trace[\"p\"][:,99])"
   ]
  },
  {
   "cell_type": "code",
   "execution_count": 95,
   "metadata": {},
   "outputs": [
    {
     "name": "stdout",
     "output_type": "stream",
     "text": [
      "48\n",
      "44.01295263896754\n"
     ]
    }
   ],
   "source": [
    "# Compare using means\n",
    "post_means = np.mean(burned_trace[\"p\"], axis=0)\n",
    "ranking_by_mean = np_subs[np.argsort(post_means)]\n",
    "dists = compute_dist_vector(np_subs, ranking_by_mean)\n",
    "\n",
    "print(np.sum(dists > 0))\n",
    "print(np.sqrt(np.mean(dists**2)))"
   ]
  },
  {
   "cell_type": "code",
   "execution_count": 94,
   "metadata": {},
   "outputs": [
    {
     "name": "stdout",
     "output_type": "stream",
     "text": [
      "[0.86886246 0.86922286 0.87084988 ... 0.87020987 0.86982231 0.8698507 ]\n",
      "[Submission(id='jptq5n') Submission(id='krntg6') Submission(id='i9161a')\n",
      " Submission(id='ecm1zg') Submission(id='l1k8xa')]\n",
      "[Submission(id='jptq5n') Submission(id='krntg6') Submission(id='i9161a')\n",
      " Submission(id='ecm1zg') Submission(id='l1k8xa')]\n",
      "0\n",
      "0.0\n"
     ]
    }
   ],
   "source": [
    "# Compare using 95% least plausible\n",
    "print(burned_trace[\"p\"][:,0])\n",
    "lp = np.sort(burned_trace[\"p\"])[int(N * 0.05),:]\n",
    "ranking_by_lp = np_subs[np.argsort(lp)]\n",
    "dists = compute_dist_vector(np_subs, ranking_by_lp)\n",
    "print(ranking_by_lp[:5])\n",
    "print(np_subs[:5])\n",
    "\n",
    "print(np.sum(dists > 0))\n",
    "print(np.sqrt(np.mean(dists**2)))"
   ]
  }
 ],
 "metadata": {
  "kernelspec": {
   "display_name": "Python 3",
   "language": "python",
   "name": "python3"
  },
  "language_info": {
   "codemirror_mode": {
    "name": "ipython",
    "version": 3
   },
   "file_extension": ".py",
   "mimetype": "text/x-python",
   "name": "python",
   "nbconvert_exporter": "python",
   "pygments_lexer": "ipython3",
   "version": "3.8.5"
  }
 },
 "nbformat": 4,
 "nbformat_minor": 4
}
