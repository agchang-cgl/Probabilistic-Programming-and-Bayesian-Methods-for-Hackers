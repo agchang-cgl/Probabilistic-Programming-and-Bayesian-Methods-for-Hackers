{
 "cells": [
  {
   "cell_type": "code",
   "execution_count": 53,
   "metadata": {},
   "outputs": [],
   "source": [
    "import pymc3 as pm\n",
    "import numpy as np\n",
    "import scipy.stats as stats\n",
    "import matplotlib.pyplot as plt"
   ]
  },
  {
   "cell_type": "code",
   "execution_count": 42,
   "metadata": {},
   "outputs": [
    {
     "name": "stdout",
     "output_type": "stream",
     "text": [
      "-1.4189385332046727\n"
     ]
    }
   ],
   "source": [
    "# see https://docs.pymc.io/notebooks/api_quickstart.html\n",
    "with pm.Model() as m1:\n",
    "    x = pm.Normal(\"x\", mu=0, sigma=1)\n",
    "print(x.logp({\"x\" : 1}))"
   ]
  },
  {
   "cell_type": "code",
   "execution_count": 44,
   "metadata": {},
   "outputs": [
    {
     "name": "stdout",
     "output_type": "stream",
     "text": [
      "[]\n",
      "[x ~ Normal]\n"
     ]
    }
   ],
   "source": [
    "print(m1.observed_RVs)\n",
    "print(m1.free_RVs)"
   ]
  },
  {
   "cell_type": "code",
   "execution_count": 45,
   "metadata": {},
   "outputs": [],
   "source": [
    "# deterministic, stochastic\n",
    "with pm.Model() as model:\n",
    "    exp = pm.Exponential(\"exp\", 1.0)\n",
    "    poi = pm.Poisson(\"poi\", exp)\n",
    "    x = poi + 1\n",
    "    # deterministic makes pymc keep track of intermediate results\n",
    "    z = pm.Deterministic(\"z\", poi + exp)\n",
    "    \n",
    "# model doesn't recognize this\n",
    "y = poi + 1"
   ]
  },
  {
   "cell_type": "code",
   "execution_count": 33,
   "metadata": {},
   "outputs": [
    {
     "name": "stdout",
     "output_type": "stream",
     "text": [
      "<class 'theano.tensor.var.TensorVariable'>\n",
      "<class 'theano.tensor.var.TensorVariable'>\n",
      "<class 'pymc3.model.DeterministicWrapper'>\n",
      "0.6931471824645996\n",
      "0\n",
      "1\n",
      "[0.19302285 1.23004596 0.901194   0.98116621 0.41995803]\n",
      "[0 0 0 1 1]\n"
     ]
    }
   ],
   "source": [
    "print(type(x))\n",
    "print(type(y))\n",
    "print(type(z))\n",
    "print(exp.tag.test_value)\n",
    "print(poi.tag.test_value)\n",
    "print(x.tag.test_value)\n",
    "\n",
    "# getting samples from prior\n",
    "print(exp.random(size=5))\n",
    "print(poi.random(size=5))\n",
    "\n",
    "# model.logp\n",
    "#print(exp.logp({\"exp\": 5.}))"
   ]
  },
  {
   "cell_type": "code",
   "execution_count": 66,
   "metadata": {},
   "outputs": [
    {
     "name": "stdout",
     "output_type": "stream",
     "text": [
      "0.4181608805025199\n",
      "[1 0 0 0 0 0 0 0 1 1 0 0 0 0 1 0 0 1 0 2 0 0 0 1 1 0 0 0 0 0 0 1 0 3 1 1 0\n",
      " 0 1 0 0 0 0 0 0 1 1 2 0 0 0 0 0 2 1 0 0 0 0 0 0 0 1 0 0 0 0 0 0 0 0 1 0 0\n",
      " 0 1 0 1 0 0 1 0 0 1 0 1 0 0 1 0 0 0 0 0 1 0 0 0 0 0]\n"
     ]
    },
    {
     "data": {
      "image/png": "[encoded data removed]",
      "text/plain": [
       "<Figure size 432x288 with 1 Axes>"
      ]
     },
     "metadata": {
      "needs_background": "light"
     },
     "output_type": "display_data"
    },
    {
     "name": "stdout",
     "output_type": "stream",
     "text": [
      "[0 0 0 0 0 0 2 0 0 0 3 2 0 0 0 0 0 0 0 0 3 4 0 1 0 2 0 0 0 2 0 2 4 1 0 0 4\n",
      " 1 7 5 1 2 3 1 0 3 2 1 1 1 1 0 0 0 1 2 0 2 0 1 0 0 7 0 3 0 2 0 0 5 0 0 0 0\n",
      " 0 5 3 0 2 4 0 0 0 0 0 0 0 1 0 0 1 0 0 0 2 0 1 0 0 0]\n"
     ]
    },
    {
     "data": {
      "image/png": "[encoded data removed]",
      "text/plain": [
       "<Figure size 432x288 with 1 Axes>"
      ]
     },
     "metadata": {
      "needs_background": "light"
     },
     "output_type": "display_data"
    }
   ],
   "source": [
    "# artificial datasets from the prior\n",
    "mu = stats.expon.rvs(scale=1.0)\n",
    "print(mu)\n",
    "d = stats.poisson.rvs(mu=mu, size=100)\n",
    "print(d)\n",
    "plt.hist(d)\n",
    "plt.show()\n",
    "\n",
    "# or \n",
    "\n",
    "d2 = poi.random(size=100)\n",
    "print(d2)\n",
    "plt.hist(d2)\n",
    "plt.show()"
   ]
  },
  {
   "cell_type": "code",
   "execution_count": 164,
   "metadata": {},
   "outputs": [
    {
     "name": "stdout",
     "output_type": "stream",
     "text": [
      "0.49\n",
      "1.0\n",
      "0.198325\n"
     ]
    }
   ],
   "source": [
    "# Bayesian A/B testing\n",
    "\n",
    "# Assume we are trying to determine if some system A is better or B. We can observe a Binomial random variable indicating success\n",
    "# from the system (think page visits, or binary success on some input). \n",
    "\n",
    "\n",
    "# 0.4, 0.7 are the \"true\" parameters, so B is better according to Nature. Note the p's are drawn independently (assume systems are not related)\n",
    "# Note we have different sample sizes\n",
    "p1 = 0.6\n",
    "p2 = 0.8\n",
    "n1 = 100\n",
    "n2 = 3\n",
    "a_trials = stats.bernoulli.rvs(p1, size=n1)\n",
    "b_trials = stats.bernoulli.rvs(p2, size=n2)\n",
    "\n",
    "print(a_trials.mean())\n",
    "print(b_trials.mean())\n",
    "\n",
    "# Just comparing the means will be high variance since the difference of the sample size\n",
    "a_better = []\n",
    "for i in range(1000):\n",
    "    a_better.append(stats.bernoulli.rvs(p1, size=100).mean() > stats.bernoulli.rvs(p2, size=80))\n",
    "    \n",
    "print(np.array(a_better).mean())  # almost 30% chance of A being better"
   ]
  },
  {
   "cell_type": "code",
   "execution_count": 147,
   "metadata": {},
   "outputs": [
    {
     "name": "stderr",
     "output_type": "stream",
     "text": [
      "/Users/andrew.chang/miniconda3/lib/python3.8/site-packages/pymc3/sampling.py:465: FutureWarning: In an upcoming release, pm.sample will return an `arviz.InferenceData` object instead of a `MultiTrace` by default. You can pass return_inferencedata=True or return_inferencedata=False to be safe and silence this warning.\n",
      "  warnings.warn(\n",
      "Auto-assigning NUTS sampler...\n",
      "Initializing NUTS using jitter+adapt_diag...\n",
      "Multiprocess sampling (4 chains in 4 jobs)\n",
      "NUTS: [p2, p1]\n"
     ]
    },
    {
     "data": {
      "text/html": [
       "\n",
       "    <div>\n",
       "        <style>\n",
       "            /* Turns off some styling */\n",
       "            progress {\n",
       "                /* gets rid of default border in Firefox and Opera. */\n",
       "                border: none;\n",
       "                /* Needs to be in here for Safari polyfill so background images work as expected. */\n",
       "                background-size: auto;\n",
       "            }\n",
       "            .progress-bar-interrupted, .progress-bar-interrupted::-webkit-progress-bar {\n",
       "                background: #F44336;\n",
       "            }\n",
       "        </style>\n",
       "      <progress value='84000' class='' max='84000' style='width:300px; height:20px; vertical-align: middle;'></progress>\n",
       "      100.00% [84000/84000 00:12<00:00 Sampling 4 chains, 0 divergences]\n",
       "    </div>\n",
       "    "
      ],
      "text/plain": [
       "<IPython.core.display.HTML object>"
      ]
     },
     "metadata": {},
     "output_type": "display_data"
    },
    {
     "name": "stderr",
     "output_type": "stream",
     "text": [
      "Sampling 4 chains for 1_000 tune and 20_000 draw iterations (4_000 + 80_000 draws total) took 20 seconds.\n"
     ]
    }
   ],
   "source": [
    "# Use Bayesian model for a more robust way of comparing two models (by thinking about the posterior of the unknown parameter p)\n",
    "with pm.Model() as m:\n",
    "    p1 = pm.Uniform(\"p1\", 0., 1.)\n",
    "    p2 = pm.Uniform(\"p2\", 0., 1.)\n",
    "    ba = pm.Bernoulli(\"ba\", p=p1, observed=a_trials)\n",
    "    bb = pm.Bernoulli(\"bb\", p=p2, observed=b_trials)\n",
    "    \n",
    "    delta = pm.Deterministic(\"delta\", p2 - p1)\n",
    "\n",
    "    trace = pm.sample(20000)"
   ]
  },
  {
   "cell_type": "code",
   "execution_count": 165,
   "metadata": {},
   "outputs": [
    {
     "name": "stderr",
     "output_type": "stream",
     "text": [
      "/Users/andrew.chang/miniconda3/lib/python3.8/site-packages/pymc3/sampling.py:465: FutureWarning: In an upcoming release, pm.sample will return an `arviz.InferenceData` object instead of a `MultiTrace` by default. You can pass return_inferencedata=True or return_inferencedata=False to be safe and silence this warning.\n",
      "  warnings.warn(\n",
      "Auto-assigning NUTS sampler...\n",
      "Initializing NUTS using jitter+adapt_diag...\n",
      "Multiprocess sampling (4 chains in 4 jobs)\n",
      "NUTS: [p2, p1]\n"
     ]
    },
    {
     "data": {
      "text/html": [
       "\n",
       "    <div>\n",
       "        <style>\n",
       "            /* Turns off some styling */\n",
       "            progress {\n",
       "                /* gets rid of default border in Firefox and Opera. */\n",
       "                border: none;\n",
       "                /* Needs to be in here for Safari polyfill so background images work as expected. */\n",
       "                background-size: auto;\n",
       "            }\n",
       "            .progress-bar-interrupted, .progress-bar-interrupted::-webkit-progress-bar {\n",
       "                background: #F44336;\n",
       "            }\n",
       "        </style>\n",
       "      <progress value='84000' class='' max='84000' style='width:300px; height:20px; vertical-align: middle;'></progress>\n",
       "      100.00% [84000/84000 00:11<00:00 Sampling 4 chains, 0 divergences]\n",
       "    </div>\n",
       "    "
      ],
      "text/plain": [
       "<IPython.core.display.HTML object>"
      ]
     },
     "metadata": {},
     "output_type": "display_data"
    },
    {
     "name": "stderr",
     "output_type": "stream",
     "text": [
      "Sampling 4 chains for 1_000 tune and 20_000 draw iterations (4_000 + 80_000 draws total) took 20 seconds.\n"
     ]
    }
   ],
   "source": [
    "# Binomial you need to specify n and then observed as a single number (of successful trials)\n",
    "with pm.Model() as m2:\n",
    "    p1 = pm.Uniform(\"p1\", 0., 1.)\n",
    "    p2 = pm.Uniform(\"p2\", 0., 1.)\n",
    "    ba = pm.Binomial(\"ba\", p=p1, n=n1, observed=a_trials.sum())\n",
    "    bb = pm.Binomial(\"bb\", p=p2, n=n2, observed=b_trials.sum())\n",
    "    \n",
    "    delta = pm.Deterministic(\"delta\", p2 - p1)\n",
    "\n",
    "    trace = pm.sample(20000)"
   ]
  },
  {
   "cell_type": "code",
   "execution_count": 110,
   "metadata": {},
   "outputs": [
    {
     "name": "stdout",
     "output_type": "stream",
     "text": [
      "[0.00434981 0.00492946 0.00453345 ... 0.00456176 0.00425208 0.00464425]\n"
     ]
    }
   ],
   "source": [
    "#print(trace[\"p1\"])"
   ]
  },
  {
   "cell_type": "code",
   "execution_count": 166,
   "metadata": {},
   "outputs": [
    {
     "data": {
      "text/plain": [
       "<AxesSubplot:title={'center':'x'}>"
      ]
     },
     "execution_count": 166,
     "metadata": {},
     "output_type": "execute_result"
    },
    {
     "data": {
      "image/png": "[encoded data removed]",
      "text/plain": [
       "<Figure size 432x288 with 1 Axes>"
      ]
     },
     "metadata": {
      "needs_background": "light"
     },
     "output_type": "display_data"
    }
   ],
   "source": [
    "pm.plots.plot_posterior(trace[\"p1\"][1000:])"
   ]
  },
  {
   "cell_type": "code",
   "execution_count": 172,
   "metadata": {},
   "outputs": [
    {
     "data": {
      "text/plain": [
       "(array([   44.,   294.,   771.,  1759.,  3493.,  5950.,  9047., 13274.,\n",
       "        18784., 25584.]),\n",
       " array([0.06179548, 0.15561525, 0.24943501, 0.34325477, 0.43707453,\n",
       "        0.53089429, 0.62471405, 0.71853381, 0.81235358, 0.90617334,\n",
       "        0.9999931 ]),\n",
       " <BarContainer object of 10 artists>)"
      ]
     },
     "execution_count": 172,
     "metadata": {},
     "output_type": "execute_result"
    },
    {
     "data": {
      "image/png": "[encoded data removed]",
      "text/plain": [
       "<Figure size 432x288 with 1 Axes>"
      ]
     },
     "metadata": {
      "needs_background": "light"
     },
     "output_type": "display_data"
    }
   ],
   "source": [
    "#pm.plots.plot_posterior(trace[\"p2\"][1000:])\n",
    "plt.hist(trace[\"p2\"][1000:])"
   ]
  },
  {
   "cell_type": "code",
   "execution_count": 168,
   "metadata": {},
   "outputs": [
    {
     "name": "stdout",
     "output_type": "stream",
     "text": [
      "[0.41380921 0.1621564  0.242216   ... 0.44978656 0.08172918 0.38397455]\n"
     ]
    },
    {
     "data": {
      "image/png": "[encoded data removed]",
      "text/plain": [
       "<Figure size 432x288 with 1 Axes>"
      ]
     },
     "metadata": {
      "needs_background": "light"
     },
     "output_type": "display_data"
    }
   ],
   "source": [
    "# Comparing the means is one way, but doesn't capture uncertainty. What if these are both really wide distributions?\n",
    "# Better to compare the delta distribution\n",
    "pm.plots.plot_posterior(trace[\"delta\"][1000:])\n",
    "print(trace[\"delta\"][1000:])"
   ]
  },
  {
   "cell_type": "code",
   "execution_count": 169,
   "metadata": {},
   "outputs": [
    {
     "name": "stdout",
     "output_type": "stream",
     "text": [
      "0.06210126582278481\n",
      "0.9378987341772151\n"
     ]
    }
   ],
   "source": [
    "prob_a_better = np.mean(trace[\"delta\"][1000:] < 0)\n",
    "prob_b_better = np.mean(trace[\"delta\"][1000:] > 0)\n",
    "print(prob_a_better)\n",
    "print(prob_b_better)"
   ]
  },
  {
   "cell_type": "code",
   "execution_count": 170,
   "metadata": {},
   "outputs": [],
   "source": [
    "# CAVEAT: With very small n2, using this scheme we can get high probability that B is better, even though we only saw 3 samples"
   ]
  },
  {
   "cell_type": "code",
   "execution_count": 178,
   "metadata": {},
   "outputs": [
    {
     "name": "stderr",
     "output_type": "stream",
     "text": [
      "/Users/andrew.chang/miniconda3/lib/python3.8/site-packages/pymc3/sampling.py:465: FutureWarning: In an upcoming release, pm.sample will return an `arviz.InferenceData` object instead of a `MultiTrace` by default. You can pass return_inferencedata=True or return_inferencedata=False to be safe and silence this warning.\n",
      "  warnings.warn(\n",
      "Multiprocess sampling (4 chains in 4 jobs)\n",
      "CompoundStep\n",
      ">NUTS: [p2, p1]\n",
      ">CompoundStep\n",
      ">>Metropolis: [bb_sim]\n",
      ">>Metropolis: [ba_sim]\n"
     ]
    },
    {
     "data": {
      "text/html": [
       "\n",
       "    <div>\n",
       "        <style>\n",
       "            /* Turns off some styling */\n",
       "            progress {\n",
       "                /* gets rid of default border in Firefox and Opera. */\n",
       "                border: none;\n",
       "                /* Needs to be in here for Safari polyfill so background images work as expected. */\n",
       "                background-size: auto;\n",
       "            }\n",
       "            .progress-bar-interrupted, .progress-bar-interrupted::-webkit-progress-bar {\n",
       "                background: #F44336;\n",
       "            }\n",
       "        </style>\n",
       "      <progress value='84000' class='' max='84000' style='width:300px; height:20px; vertical-align: middle;'></progress>\n",
       "      100.00% [84000/84000 00:25<00:00 Sampling 4 chains, 0 divergences]\n",
       "    </div>\n",
       "    "
      ],
      "text/plain": [
       "<IPython.core.display.HTML object>"
      ]
     },
     "metadata": {},
     "output_type": "display_data"
    },
    {
     "name": "stderr",
     "output_type": "stream",
     "text": [
      "Sampling 4 chains for 1_000 tune and 20_000 draw iterations (4_000 + 80_000 draws total) took 33 seconds.\n",
      "The acceptance probability does not match the target. It is 0.978822017824704, but should be close to 0.8. Try to increase the number of tuning steps.\n",
      "The acceptance probability does not match the target. It is 0.967233036002202, but should be close to 0.8. Try to increase the number of tuning steps.\n",
      "The acceptance probability does not match the target. It is 0.974265141022603, but should be close to 0.8. Try to increase the number of tuning steps.\n",
      "The acceptance probability does not match the target. It is 0.9605014555282158, but should be close to 0.8. Try to increase the number of tuning steps.\n",
      "The number of effective samples is smaller than 10% for some parameters.\n"
     ]
    }
   ],
   "source": [
    "# simulate datasets from posterior\n",
    "# Binomial you need to specify n and then observed as a single number (of successful trials)\n",
    "p1 = 0.8\n",
    "p2 = 0.3\n",
    "n1 = 1000\n",
    "n2 = 2500\n",
    "\n",
    "with pm.Model() as m2:\n",
    "    p1 = pm.Uniform(\"p1\", 0., 1.)\n",
    "    p2 = pm.Uniform(\"p2\", 0., 1.)\n",
    "    ba = pm.Binomial(\"ba\", p=p1, n=n1, observed=a_trials.sum())\n",
    "    bb = pm.Binomial(\"bb\", p=p2, n=n2, observed=b_trials.sum())\n",
    "    ba_sim = pm.Binomial(\"ba_sim\", p=p1, n=n1)\n",
    "    bb_sim = pm.Binomial(\"bb_sim\", p=p2, n=n2)\n",
    "\n",
    "    \n",
    "    delta = pm.Deterministic(\"delta\", p2 - p1)\n",
    "\n",
    "    trace = pm.sample(20000)\n",
    "    burned_trace = trace[1000:]"
   ]
  },
  {
   "cell_type": "code",
   "execution_count": 181,
   "metadata": {},
   "outputs": [
    {
     "name": "stdout",
     "output_type": "stream",
     "text": [
      "(76000,)\n"
     ]
    },
    {
     "data": {
      "text/plain": [
       "(array([3.2200e+02, 4.2520e+03, 1.7866e+04, 2.4580e+04, 1.9354e+04,\n",
       "        7.5970e+03, 1.7150e+03, 2.7800e+02, 3.3000e+01, 3.0000e+00]),\n",
       " array([ 18. ,  26.7,  35.4,  44.1,  52.8,  61.5,  70.2,  78.9,  87.6,\n",
       "         96.3, 105. ]),\n",
       " <BarContainer object of 10 artists>)"
      ]
     },
     "execution_count": 181,
     "metadata": {},
     "output_type": "execute_result"
    },
    {
     "data": {
      "image/png": "[encoded data removed]",
      "text/plain": [
       "<Figure size 432x288 with 1 Axes>"
      ]
     },
     "metadata": {
      "needs_background": "light"
     },
     "output_type": "display_data"
    }
   ],
   "source": [
    "print(burned_trace[\"ba_sim\"].shape)\n",
    "plt.hist(burned_trace[\"ba_sim\"])"
   ]
  },
  {
   "cell_type": "code",
   "execution_count": 182,
   "metadata": {},
   "outputs": [
    {
     "name": "stdout",
     "output_type": "stream",
     "text": [
      "(76000,)\n"
     ]
    },
    {
     "data": {
      "text/plain": [
       "(array([2.6100e+04, 2.2203e+04, 1.4355e+04, 9.5210e+03, 2.3260e+03,\n",
       "        8.6800e+02, 4.9400e+02, 8.8000e+01, 3.3000e+01, 1.2000e+01]),\n",
       " array([ 0. ,  2.3,  4.6,  6.9,  9.2, 11.5, 13.8, 16.1, 18.4, 20.7, 23. ]),\n",
       " <BarContainer object of 10 artists>)"
      ]
     },
     "execution_count": 182,
     "metadata": {},
     "output_type": "execute_result"
    },
    {
     "data": {
      "image/png": "[encoded data removed]",
      "text/plain": [
       "<Figure size 432x288 with 1 Axes>"
      ]
     },
     "metadata": {
      "needs_background": "light"
     },
     "output_type": "display_data"
    }
   ],
   "source": [
    "print(burned_trace[\"bb_sim\"].shape)\n",
    "plt.hist(burned_trace[\"bb_sim\"])"
   ]
  },
  {
   "cell_type": "code",
   "execution_count": null,
   "metadata": {},
   "outputs": [],
   "source": [
    "# separation plots"
   ]
  },
  {
   "cell_type": "code",
   "execution_count": null,
   "metadata": {},
   "outputs": [],
   "source": []
  }
 ],
 "metadata": {
  "kernelspec": {
   "display_name": "Python 3",
   "language": "python",
   "name": "python3"
  },
  "language_info": {
   "codemirror_mode": {
    "name": "ipython",
    "version": 3
   },
   "file_extension": ".py",
   "mimetype": "text/x-python",
   "name": "python",
   "nbconvert_exporter": "python",
   "pygments_lexer": "ipython3",
   "version": "3.8.5"
  }
 },
 "nbformat": 4,
 "nbformat_minor": 4
}
